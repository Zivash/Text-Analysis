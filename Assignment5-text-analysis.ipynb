{
 "cells": [
  {
   "cell_type": "markdown",
   "metadata": {},
   "source": [
    "# Assignment 5 - Text Analysis\n",
    "An explanation this assignment could be found in the .pdf explanation document"
   ]
  },
  {
   "cell_type": "markdown",
   "metadata": {},
   "source": [
    "\n",
    "## Materials to review for this assignment\n",
    "<h4>From Moodle:</h4> \n",
    "<h5><u>Review the notebooks regarding the following python topics</u>:</h5>\n",
    "<div class=\"alert alert-info\">\n",
    "&#x2714; <b>Working with strings</b> (tutorial notebook)<br/>\n",
    "&#x2714; <b>Text Analysis</b> (tutorial notebook)<br/>\n",
    "&#x2714; <b>Hebrew text analysis tools (tokenizer, wordnet)</b> (moodle example)<br/>\n",
    "&#x2714; <b>(brief review) All previous notebooks</b><br/>\n",
    "</div> \n",
    "<h5><u>Review the presentations regarding the following topics</u>:</h5>\n",
    "<div class=\"alert alert-info\">\n",
    "&#x2714; <b>Text Analysis</b> (lecture presentation)<br/>\n",
    "&#x2714; <b>(brief review) All other presentations</b><br/>\n",
    "</div>"
   ]
  },
  {
   "cell_type": "markdown",
   "metadata": {},
   "source": [
    "## Preceding Step - import modules (packages)\n",
    "This step is necessary in order to use external modules (packages). <br/>"
   ]
  },
  {
   "cell_type": "code",
   "execution_count": 1,
   "metadata": {},
   "outputs": [],
   "source": [
    "# --------------------------------------\n",
    "import pandas as pd\n",
    "import numpy as np\n",
    "# --------------------------------------\n",
    "\n",
    "\n",
    "# --------------------------------------\n",
    "# ------------- visualizations:\n",
    "import seaborn as sns\n",
    "import matplotlib.pyplot as plt\n",
    "from matplotlib.colors import ListedColormap\n",
    "# --------------------------------------\n",
    "\n",
    "\n",
    "# ---------------------------------------\n",
    "import sklearn\n",
    "from sklearn import preprocessing, metrics, pipeline, model_selection, feature_extraction \n",
    "from sklearn import naive_bayes, linear_model, svm, neural_network, neighbors, tree\n",
    "from sklearn import decomposition, cluster\n",
    "\n",
    "from sklearn.model_selection import train_test_split, cross_val_score, GridSearchCV \n",
    "from sklearn.pipeline import Pipeline\n",
    "from sklearn.metrics import accuracy_score, confusion_matrix\n",
    "from sklearn.metrics import precision_score, recall_score, f1_score,make_scorer\n",
    "from sklearn.metrics import mean_squared_error, r2_score, silhouette_score\n",
    "from sklearn.preprocessing import MinMaxScaler, StandardScaler, LabelEncoder\n",
    "\n",
    "from sklearn.svm import LinearSVC\n",
    "from sklearn.neural_network import MLPClassifier\n",
    "from sklearn.linear_model import Perceptron, SGDClassifier\n",
    "from sklearn.decomposition import PCA\n",
    "from sklearn.cluster import KMeans\n",
    "from sklearn.naive_bayes import MultinomialNB, GaussianNB\n",
    "from sklearn.neighbors import KNeighborsClassifier\n",
    "from sklearn.tree import DecisionTreeClassifier\n",
    "# ---------------------------------------\n",
    "\n",
    "\n",
    "# ----------------- output and visualizations: \n",
    "import warnings\n",
    "from sklearn.exceptions import ConvergenceWarning\n",
    "warnings.simplefilter(\"ignore\")\n",
    "warnings.simplefilter(action='ignore', category=FutureWarning)\n",
    "warnings.simplefilter(\"ignore\", category=ConvergenceWarning)\n",
    "# show several prints in one cell. This will allow us to condence every trick in one cell.\n",
    "from IPython.core.interactiveshell import InteractiveShell\n",
    "InteractiveShell.ast_node_interactivity = \"all\"\n",
    "%matplotlib inline\n",
    "pd.pandas.set_option('display.max_columns', None)\n",
    "pd.set_option('display.float_format', lambda x: '%.3f' % x)\n",
    "# ---------------------------------------"
   ]
  },
  {
   "cell_type": "markdown",
   "metadata": {},
   "source": [
    "### Text analysis and String manipulation imports:"
   ]
  },
  {
   "cell_type": "code",
   "execution_count": 2,
   "metadata": {},
   "outputs": [],
   "source": [
    "# --------------------------------------\n",
    "# --------- Text analysis and Hebrew text analysis imports:\n",
    "# vectorizers:\n",
    "from sklearn.feature_extraction import text\n",
    "from sklearn.feature_extraction.text import CountVectorizer, TfidfVectorizer\n",
    "\n",
    "# regular expressions:\n",
    "import re\n",
    "# --------------------------------------"
   ]
  },
  {
   "cell_type": "markdown",
   "metadata": {},
   "source": [
    "### (optional) Hebrew text analysis - WordNet (for Hebrew)\n",
    "Note: the WordNet is not a must"
   ]
  },
  {
   "cell_type": "markdown",
   "metadata": {},
   "source": [
    "#### (optional) Only if you didn't install Wordnet (for Hebrew) use:"
   ]
  },
  {
   "cell_type": "code",
   "execution_count": 3,
   "metadata": {},
   "outputs": [],
   "source": [
    "# word net installation:\n",
    "\n",
    "# unmark if you want to use and need to install\n",
    "# !pip install wn\n",
    "# !python -m wn download omw-he:1.4"
   ]
  },
  {
   "cell_type": "code",
   "execution_count": 4,
   "metadata": {},
   "outputs": [],
   "source": [
    "# word net import:\n",
    "\n",
    "# unmark if you want to use:\n",
    "import wn"
   ]
  },
  {
   "cell_type": "markdown",
   "metadata": {},
   "source": [
    "### (optional) Hebrew text analysis - hebrew_tokenizer (Tokenizer for Hebrew)\n",
    "Note: the hebrew_tokenizer is not a must"
   ]
  },
  {
   "cell_type": "markdown",
   "metadata": {},
   "source": [
    "#### (optional) Only if you didn't install hebrew_tokenizer use:"
   ]
  },
  {
   "cell_type": "code",
   "execution_count": 5,
   "metadata": {},
   "outputs": [],
   "source": [
    "# Hebrew tokenizer installation:\n",
    "\n",
    "# unmark if you want to use and need to install:\n",
    "# !pip install hebrew_tokenizer"
   ]
  },
  {
   "cell_type": "code",
   "execution_count": 6,
   "metadata": {},
   "outputs": [
    {
     "name": "stdout",
     "output_type": "stream",
     "text": [
      "C:\\Users\\USER\\Desktop\\Machine Learning\\Assignment5-text-analysis\n"
     ]
    }
   ],
   "source": [
    "# Hebrew tokenizer import:\n",
    "\n",
    "# unmark if you want to use:\n",
    "import hebrew_tokenizer as ht"
   ]
  },
  {
   "cell_type": "markdown",
   "metadata": {},
   "source": [
    "### Reading input files\n",
    "Reading input files for train annotated corpus (raw text data) corpus and for the test corpus"
   ]
  },
  {
   "cell_type": "code",
   "execution_count": 7,
   "metadata": {},
   "outputs": [],
   "source": [
    "train_filename = 'annotated_corpus_for_train.csv'\n",
    "test_filename  = 'corpus_for_test.csv'\n",
    "df_train = pd.read_csv(train_filename, index_col=None, encoding='utf-8')\n",
    "df_test  = pd.read_csv(test_filename, index_col=None, encoding='utf-8')"
   ]
  },
  {
   "cell_type": "code",
   "execution_count": 8,
   "metadata": {},
   "outputs": [
    {
     "data": {
      "text/html": [
       "<div>\n",
       "<style scoped>\n",
       "    .dataframe tbody tr th:only-of-type {\n",
       "        vertical-align: middle;\n",
       "    }\n",
       "\n",
       "    .dataframe tbody tr th {\n",
       "        vertical-align: top;\n",
       "    }\n",
       "\n",
       "    .dataframe thead th {\n",
       "        text-align: right;\n",
       "    }\n",
       "</style>\n",
       "<table border=\"1\" class=\"dataframe\">\n",
       "  <thead>\n",
       "    <tr style=\"text-align: right;\">\n",
       "      <th></th>\n",
       "      <th>story</th>\n",
       "      <th>gender</th>\n",
       "    </tr>\n",
       "  </thead>\n",
       "  <tbody>\n",
       "    <tr>\n",
       "      <th>0</th>\n",
       "      <td>כשחבר הזמין אותי לחול, לא באמת חשבתי שזה יקרה,...</td>\n",
       "      <td>m</td>\n",
       "    </tr>\n",
       "    <tr>\n",
       "      <th>1</th>\n",
       "      <td>לפני שהתגייסתי לצבא עשיתי כל מני מיונים ליחידו...</td>\n",
       "      <td>m</td>\n",
       "    </tr>\n",
       "    <tr>\n",
       "      <th>2</th>\n",
       "      <td>מאז שהתחילו הלימודים חלומו של כל סטודנט זה הפנ...</td>\n",
       "      <td>f</td>\n",
       "    </tr>\n",
       "    <tr>\n",
       "      <th>3</th>\n",
       "      <td>כשהייתי ילד, מטוסים היה הדבר שהכי ריתק אותי. ב...</td>\n",
       "      <td>m</td>\n",
       "    </tr>\n",
       "    <tr>\n",
       "      <th>4</th>\n",
       "      <td>‏הייתי מדריכה בכפר נוער ומתאם הכפר היינו צריכי...</td>\n",
       "      <td>f</td>\n",
       "    </tr>\n",
       "    <tr>\n",
       "      <th>5</th>\n",
       "      <td>לפני כ3 חודשים טסתי לרומא למשך שבוע. טסתי במטו...</td>\n",
       "      <td>f</td>\n",
       "    </tr>\n",
       "    <tr>\n",
       "      <th>6</th>\n",
       "      <td>אני כבר שנתיים נשוי והשנה אני ואישתי סוף סוף י...</td>\n",
       "      <td>m</td>\n",
       "    </tr>\n",
       "    <tr>\n",
       "      <th>7</th>\n",
       "      <td>השנה התחלנו שיפוץ בדירה שלנו בתל אביב. הדירה ה...</td>\n",
       "      <td>f</td>\n",
       "    </tr>\n",
       "  </tbody>\n",
       "</table>\n",
       "</div>"
      ],
      "text/plain": [
       "                                               story gender\n",
       "0  כשחבר הזמין אותי לחול, לא באמת חשבתי שזה יקרה,...      m\n",
       "1  לפני שהתגייסתי לצבא עשיתי כל מני מיונים ליחידו...      m\n",
       "2  מאז שהתחילו הלימודים חלומו של כל סטודנט זה הפנ...      f\n",
       "3  כשהייתי ילד, מטוסים היה הדבר שהכי ריתק אותי. ב...      m\n",
       "4  ‏הייתי מדריכה בכפר נוער ומתאם הכפר היינו צריכי...      f\n",
       "5  לפני כ3 חודשים טסתי לרומא למשך שבוע. טסתי במטו...      f\n",
       "6  אני כבר שנתיים נשוי והשנה אני ואישתי סוף סוף י...      m\n",
       "7  השנה התחלנו שיפוץ בדירה שלנו בתל אביב. הדירה ה...      f"
      ]
     },
     "execution_count": 8,
     "metadata": {},
     "output_type": "execute_result"
    },
    {
     "data": {
      "text/plain": [
       "(753, 2)"
      ]
     },
     "execution_count": 8,
     "metadata": {},
     "output_type": "execute_result"
    }
   ],
   "source": [
    "df_train.head(8)\n",
    "df_train.shape"
   ]
  },
  {
   "cell_type": "code",
   "execution_count": 9,
   "metadata": {},
   "outputs": [
    {
     "data": {
      "text/html": [
       "<div>\n",
       "<style scoped>\n",
       "    .dataframe tbody tr th:only-of-type {\n",
       "        vertical-align: middle;\n",
       "    }\n",
       "\n",
       "    .dataframe tbody tr th {\n",
       "        vertical-align: top;\n",
       "    }\n",
       "\n",
       "    .dataframe thead th {\n",
       "        text-align: right;\n",
       "    }\n",
       "</style>\n",
       "<table border=\"1\" class=\"dataframe\">\n",
       "  <thead>\n",
       "    <tr style=\"text-align: right;\">\n",
       "      <th></th>\n",
       "      <th>test_example_id</th>\n",
       "      <th>story</th>\n",
       "    </tr>\n",
       "  </thead>\n",
       "  <tbody>\n",
       "    <tr>\n",
       "      <th>0</th>\n",
       "      <td>0</td>\n",
       "      <td>כל קיץ אני והמשפחה נוסעים לארצות הברית לוס אנג...</td>\n",
       "    </tr>\n",
       "    <tr>\n",
       "      <th>1</th>\n",
       "      <td>1</td>\n",
       "      <td>הגעתי לשירות המדינה אחרי שנתיים כפעיל בתנועת \"...</td>\n",
       "    </tr>\n",
       "    <tr>\n",
       "      <th>2</th>\n",
       "      <td>2</td>\n",
       "      <td>אחת האהבות הגדולות שלי אלו הכלבים שלי ושל אישת...</td>\n",
       "    </tr>\n",
       "  </tbody>\n",
       "</table>\n",
       "</div>"
      ],
      "text/plain": [
       "   test_example_id                                              story\n",
       "0                0  כל קיץ אני והמשפחה נוסעים לארצות הברית לוס אנג...\n",
       "1                1  הגעתי לשירות המדינה אחרי שנתיים כפעיל בתנועת \"...\n",
       "2                2  אחת האהבות הגדולות שלי אלו הכלבים שלי ושל אישת..."
      ]
     },
     "execution_count": 9,
     "metadata": {},
     "output_type": "execute_result"
    },
    {
     "data": {
      "text/plain": [
       "(323, 2)"
      ]
     },
     "execution_count": 9,
     "metadata": {},
     "output_type": "execute_result"
    }
   ],
   "source": [
    "df_test.head(3)\n",
    "df_test.shape"
   ]
  },
  {
   "cell_type": "markdown",
   "metadata": {},
   "source": [
    "## Your implementation:\n",
    "Write your code solution in the following code-cells"
   ]
  },
  {
   "cell_type": "markdown",
   "metadata": {},
   "source": [
    "### Pre-Processing:"
   ]
  },
  {
   "cell_type": "code",
   "execution_count": 10,
   "metadata": {},
   "outputs": [],
   "source": [
    "# Over-ride tokenizer\n",
    "wordnet_he = wn.Wordnet('omw-he:1.4')\n",
    "\n",
    "def tokenize(text):\n",
    "    t_list = list()\n",
    "    tokens = ht.tokenize(text)\n",
    "    \n",
    "    for grp, token, token_num, (start_index,end_index) in tokens:\n",
    "        token = token.lstrip('ו')\n",
    "        \n",
    "        synsets = wordnet_he.synsets(token)\n",
    "        if (len(synsets) > 0):\n",
    "            t_list.append(synsets[0].lemmas()[0])\n",
    "        else:\n",
    "            t_list.append(token)\n",
    "    return t_list"
   ]
  },
  {
   "cell_type": "code",
   "execution_count": 11,
   "metadata": {},
   "outputs": [],
   "source": [
    "#clean the text\n",
    "\n",
    "def clean(df):\n",
    "    for row in df.index:\n",
    "        df['story'][row] = re.sub(r'[^\\w\\s]','',df['story'][row]) # remove punctuation\n",
    "        df['story'][row] = re.sub(r'\\b\\w+[a-zA-Z]\\w*\\b', '', df['story'][row]) # remove english letters\n",
    "        df['story'][row] = re.sub(r'\\d+','',df['story'][row]) # remove digits\n",
    "    return df"
   ]
  },
  {
   "cell_type": "code",
   "execution_count": 12,
   "metadata": {},
   "outputs": [],
   "source": [
    "# change the y label to numeric\n",
    "# implmeantion the clean function on the df_train and df_test\n",
    "\n",
    "df_train['gender'] = df_train['gender'].replace('f',0) # change to numeric\n",
    "df_train['gender'] = df_train['gender'].replace('m',1) # change to numeric\n",
    "df_test = clean(df_test)\n",
    "df_train = clean(df_train)"
   ]
  },
  {
   "cell_type": "code",
   "execution_count": 13,
   "metadata": {},
   "outputs": [],
   "source": [
    "# split the df_train to x_train and y_train\n",
    "\n",
    "x_train = df_train['story']\n",
    "y_train = df_train['gender']"
   ]
  },
  {
   "cell_type": "markdown",
   "metadata": {},
   "source": [
    "#### Vectorizer functions"
   ]
  },
  {
   "cell_type": "code",
   "execution_count": 14,
   "metadata": {},
   "outputs": [],
   "source": [
    "def tfidf(x_train):\n",
    "    vec = TfidfVectorizer(tokenizer=tokenize,min_df = 3,max_features=2500,norm='l2')\n",
    "    \n",
    "    train = vec.fit_transform(x_train)\n",
    "    return train"
   ]
  },
  {
   "cell_type": "code",
   "execution_count": 15,
   "metadata": {},
   "outputs": [],
   "source": [
    "def countvec(x_train):\n",
    "    vec = CountVectorizer(tokenizer=tokenize,min_df = 3,max_features=2500)\n",
    "\n",
    "    train = vec.fit_transform(x_train)\n",
    "    return train"
   ]
  },
  {
   "cell_type": "markdown",
   "metadata": {},
   "source": [
    "#### Best-hyperparameters function"
   ]
  },
  {
   "cell_type": "code",
   "execution_count": 16,
   "metadata": {},
   "outputs": [],
   "source": [
    "def best_params(clf, clf_params, x_train, y_train):\n",
    "    grid_search = GridSearchCV(clf, clf_params, cv=10)\n",
    "    grid_search.fit(x_train, y_train)\n",
    "    \n",
    "    print(\"The model is: \", clf)\n",
    "    print(\"Best hyperparameters: \", grid_search.best_params_)\n",
    "    return grid_search.best_params_"
   ]
  },
  {
   "cell_type": "markdown",
   "metadata": {},
   "source": [
    "#### Evaluate function"
   ]
  },
  {
   "cell_type": "code",
   "execution_count": 17,
   "metadata": {},
   "outputs": [],
   "source": [
    "def evaluate(model, x_train, y_train):\n",
    "    model = model.fit(x_train,y_train)\n",
    "    scores = cross_val_score(model, x_train, y_train, cv=10,scoring=make_scorer(f1_score,average='macro'))\n",
    "        \n",
    "    avg_f1_score = np.mean(scores)\n",
    "    \n",
    "    print(\"The average f1 is: \", avg_f1_score)"
   ]
  },
  {
   "cell_type": "code",
   "execution_count": 18,
   "metadata": {},
   "outputs": [],
   "source": [
    "# Implementation of the vectorizer functions:\n",
    "\n",
    "x_train_tf = tfidf(x_train)\n",
    "x_train_cv = countvec(x_train)"
   ]
  },
  {
   "cell_type": "markdown",
   "metadata": {},
   "source": [
    "##### Find the best model & vectorizer"
   ]
  },
  {
   "cell_type": "markdown",
   "metadata": {},
   "source": [
    "##### KNN"
   ]
  },
  {
   "cell_type": "code",
   "execution_count": 19,
   "metadata": {},
   "outputs": [
    {
     "name": "stdout",
     "output_type": "stream",
     "text": [
      "TfidfVectorizer\n",
      "The model is:  KNeighborsClassifier()\n",
      "Best hyperparameters:  {'n_neighbors': 7, 'p': 2, 'weights': 'distance'}\n",
      "The average f1 is:  0.5967218984599029\n",
      "\n",
      "CountVectorizer\n",
      "The model is:  KNeighborsClassifier()\n",
      "Best hyperparameters:  {'n_neighbors': 7, 'p': 1, 'weights': 'distance'}\n",
      "The average f1 is:  0.4779559435142053\n"
     ]
    }
   ],
   "source": [
    "knn = KNeighborsClassifier()\n",
    "\n",
    "knn_params = {\n",
    "    'n_neighbors': [3, 5, 7],\n",
    "    'weights': ['uniform', 'distance'],\n",
    "    'p': [1, 2]\n",
    "}\n",
    "\n",
    "print(\"TfidfVectorizer\")\n",
    "\n",
    "params_tf = best_params(knn, knn_params, x_train_tf, y_train)\n",
    "knn_tf = KNeighborsClassifier(n_neighbors=params_tf['n_neighbors'],\n",
    "                              weights=params_tf['weights'],\n",
    "                              p=params_tf['p'])\n",
    "\n",
    "evaluate(knn_tf, x_train_tf, y_train)\n",
    "print()\n",
    "print(\"CountVectorizer\")\n",
    "\n",
    "params_cv = best_params(knn, knn_params, x_train_cv, y_train)\n",
    "\n",
    "knn_cv = KNeighborsClassifier(n_neighbors=params_cv['n_neighbors'],\n",
    "                              weights=params_cv['weights'],\n",
    "                              p=params_cv['p'])\n",
    "\n",
    "evaluate(knn_cv, x_train_cv, y_train)"
   ]
  },
  {
   "cell_type": "markdown",
   "metadata": {},
   "source": [
    "##### DecisionTree"
   ]
  },
  {
   "cell_type": "code",
   "execution_count": 20,
   "metadata": {},
   "outputs": [
    {
     "name": "stdout",
     "output_type": "stream",
     "text": [
      "TfidfVectorizer\n",
      "The model is:  DecisionTreeClassifier()\n",
      "Best hyperparameters:  {'max_depth': 4, 'min_samples_leaf': 3, 'min_samples_split': 3}\n",
      "The average f1 is:  0.5437466319180457\n",
      "\n",
      "CountVectorizer\n",
      "The model is:  DecisionTreeClassifier()\n",
      "Best hyperparameters:  {'max_depth': 3, 'min_samples_leaf': 2, 'min_samples_split': 2}\n",
      "The average f1 is:  0.5535161911681612\n"
     ]
    }
   ],
   "source": [
    "dt= DecisionTreeClassifier()\n",
    "\n",
    "dt_params ={\n",
    "    'max_depth': [None, 2, 3, 4, 5],\n",
    "    'min_samples_split': [2, 3, 4],\n",
    "    'min_samples_leaf': [None, 1, 2, 3]\n",
    "}\n",
    "\n",
    "print(\"TfidfVectorizer\")\n",
    "\n",
    "params_tf = best_params(dt, dt_params, x_train_tf, y_train)\n",
    "\n",
    "dt_tf = DecisionTreeClassifier(max_depth=params_tf['max_depth'],\n",
    "                            min_samples_split=params_tf['min_samples_split'],\n",
    "                            min_samples_leaf=params_tf['min_samples_leaf'])\n",
    "\n",
    "evaluate(dt_tf, x_train_tf, y_train)\n",
    "print()\n",
    "print(\"CountVectorizer\")\n",
    "\n",
    "params_cv = best_params(dt, dt_params, x_train_cv, y_train)\n",
    "\n",
    "dt_cv = DecisionTreeClassifier(max_depth=params_cv['max_depth'],\n",
    "                            min_samples_split=params_cv['min_samples_split'],\n",
    "                            min_samples_leaf=params_cv['min_samples_leaf'])\n",
    "\n",
    "evaluate(dt_cv, x_train_cv, y_train)"
   ]
  },
  {
   "cell_type": "markdown",
   "metadata": {},
   "source": [
    "##### Perceptron"
   ]
  },
  {
   "cell_type": "code",
   "execution_count": 21,
   "metadata": {},
   "outputs": [
    {
     "name": "stdout",
     "output_type": "stream",
     "text": [
      "TfidfVectorizer\n",
      "The model is:  Perceptron()\n",
      "Best hyperparameters:  {'alpha': 0.0001, 'max_iter': 200, 'penalty': 'elasticnet', 'random_state': 42, 'tol': 0.1}\n",
      "The average f1 is:  0.6481998521877228\n",
      "\n",
      "CountVectorizer\n",
      "The model is:  Perceptron()\n",
      "Best hyperparameters:  {'alpha': 0.0001, 'max_iter': 200, 'penalty': 'l1', 'random_state': 42, 'tol': 0.01}\n",
      "The average f1 is:  0.6787931045934495\n"
     ]
    }
   ],
   "source": [
    "per = Perceptron()\n",
    "\n",
    "per_params = {\n",
    "    'penalty' : ['l2', 'l1', 'elasticnet'],\n",
    "    'alpha' : [0.1,0.001,0.0001],\n",
    "    'max_iter' : [200, 500, 1000],\n",
    "    'tol' : [1e-1, 1e-2, 1e-3],\n",
    "    'random_state' : [0, 42]\n",
    "}\n",
    "print(\"TfidfVectorizer\")\n",
    "params_tf = best_params(per, per_params, x_train_tf, y_train)\n",
    "\n",
    "per_tf = Perceptron(penalty=params_tf['penalty'],\n",
    "                    alpha=params_tf['alpha'],\n",
    "                    max_iter=params_tf['max_iter'],\n",
    "                    tol=params_tf['tol'],\n",
    "                    random_state=params_tf['random_state'])\n",
    "\n",
    "evaluate(per_tf, x_train_tf, y_train)\n",
    "print()\n",
    "print(\"CountVectorizer\")\n",
    "\n",
    "params_cv = best_params(per, per_params, x_train_cv, y_train)\n",
    "\n",
    "per_cv = Perceptron(penalty=params_cv['penalty'],\n",
    "                    alpha=params_cv['alpha'],\n",
    "                    max_iter=params_cv['max_iter'],\n",
    "                    tol=params_cv['tol'],\n",
    "                    random_state=params_cv['random_state'])\n",
    "    \n",
    "evaluate(per_cv, x_train_cv, y_train)"
   ]
  },
  {
   "cell_type": "markdown",
   "metadata": {},
   "source": [
    "##### LinearSVC"
   ]
  },
  {
   "cell_type": "code",
   "execution_count": 22,
   "metadata": {},
   "outputs": [
    {
     "name": "stdout",
     "output_type": "stream",
     "text": [
      "TfidfVectorizer\n",
      "The model is:  LinearSVC()\n",
      "Best hyperparameters:  {'loss': 'squared_hinge', 'penalty': 'l2', 'tol': 0.01}\n",
      "The average f1 is:  0.6445529220498789\n",
      "\n",
      "CountVectorizer\n",
      "The model is:  LinearSVC()\n",
      "Best hyperparameters:  {'loss': 'squared_hinge', 'penalty': 'l2', 'tol': 0.01}\n",
      "The average f1 is:  0.6708674661555024\n"
     ]
    }
   ],
   "source": [
    "svc = LinearSVC()\n",
    "\n",
    "svc_params = {\n",
    "    'penalty' : ['l2', 'l1'],\n",
    "    'loss' : ['hinge', 'squared_hinge'],\n",
    "    'tol' : [1e-2, 1e-3, 1e-4]\n",
    "}\n",
    "\n",
    "print(\"TfidfVectorizer\")\n",
    "\n",
    "params_tf = best_params(svc, svc_params, x_train_tf, y_train)\n",
    "\n",
    "svc_tf = LinearSVC(penalty=params_tf['penalty'],\n",
    "                   loss=params_tf['loss'],\n",
    "                   tol=params_tf['tol'])\n",
    "\n",
    "evaluate(svc_tf, x_train_tf, y_train)\n",
    "print()\n",
    "print(\"CountVectorizer\")\n",
    "\n",
    "params_cv = best_params(svc, svc_params, x_train_cv, y_train)\n",
    "\n",
    "svc_cv = LinearSVC(penalty=params_cv['penalty'],\n",
    "                   loss=params_cv['loss'],\n",
    "                   tol=params_cv['tol'])\n",
    "\n",
    "evaluate(svc_cv, x_train_cv, y_train)"
   ]
  },
  {
   "cell_type": "markdown",
   "metadata": {},
   "source": [
    "##### SGD"
   ]
  },
  {
   "cell_type": "code",
   "execution_count": 25,
   "metadata": {},
   "outputs": [
    {
     "name": "stdout",
     "output_type": "stream",
     "text": [
      "TfidfVectorizer\n",
      "The model is:  SGDClassifier()\n",
      "Best hyperparameters:  {'loss': 'hinge', 'max_iter': 50, 'n_iter_no_change': 7, 'penalty': 'l1', 'tol': 0.0001}\n",
      "The average f1 is:  0.7158853977039724\n",
      "\n",
      "CountVectorizer\n",
      "The model is:  SGDClassifier()\n",
      "Best hyperparameters:  {'loss': 'perceptron', 'max_iter': 20, 'n_iter_no_change': 3, 'penalty': 'elasticnet', 'tol': 0.0001}\n",
      "The average f1 is:  0.6647268308945019\n"
     ]
    }
   ],
   "source": [
    "sgd = SGDClassifier()\n",
    "\n",
    "sgd_params = {\n",
    "    'loss' : ['hinge', 'log_loss', 'perceptron'],\n",
    "    'penalty' : ['l2', 'l1', 'elasticnet'],\n",
    "    'tol' : [1e-2, 1e-3, 1e-4],\n",
    "    'n_iter_no_change' : [3, 5, 7],\n",
    "    'max_iter' : [20, 40, 50]\n",
    "}\n",
    "\n",
    "print(\"TfidfVectorizer\")\n",
    "\n",
    "params_tf = best_params(sgd, sgd_params, x_train_tf, y_train)\n",
    "\n",
    "sgd_tf = SGDClassifier(loss=params_tf['loss'],\n",
    "                    penalty=params_tf['penalty'],\n",
    "                    tol=params_tf['tol'],\n",
    "                    n_iter_no_change=params_tf['n_iter_no_change'],\n",
    "                    max_iter=params_tf['max_iter'])\n",
    "\n",
    "evaluate(sgd_tf, x_train_tf, y_train)\n",
    "print()\n",
    "print(\"CountVectorizer\")\n",
    "\n",
    "params_cv = best_params(sgd, sgd_params, x_train_cv, y_train)\n",
    "\n",
    "sgd_cv = SGDClassifier(loss=params_cv['loss'],\n",
    "                    penalty=params_cv['penalty'],\n",
    "                    tol=params_cv['tol'],\n",
    "                    n_iter_no_change=params_cv['n_iter_no_change'],\n",
    "                    max_iter=params_cv['max_iter'])\n",
    "\n",
    "evaluate(sgd_cv, x_train_cv, y_train)"
   ]
  },
  {
   "cell_type": "markdown",
   "metadata": {},
   "source": [
    "## Predict "
   ]
  },
  {
   "cell_type": "code",
   "execution_count": 27,
   "metadata": {},
   "outputs": [],
   "source": [
    "x_test = tfidf(df_test['story'])"
   ]
  },
  {
   "cell_type": "code",
   "execution_count": 28,
   "metadata": {},
   "outputs": [
    {
     "data": {
      "text/plain": [
       "SGDClassifier(max_iter=50, n_iter_no_change=7, penalty='l1', tol=0.0001)"
      ]
     },
     "execution_count": 28,
     "metadata": {},
     "output_type": "execute_result"
    },
    {
     "data": {
      "text/html": [
       "<div>\n",
       "<style scoped>\n",
       "    .dataframe tbody tr th:only-of-type {\n",
       "        vertical-align: middle;\n",
       "    }\n",
       "\n",
       "    .dataframe tbody tr th {\n",
       "        vertical-align: top;\n",
       "    }\n",
       "\n",
       "    .dataframe thead th {\n",
       "        text-align: right;\n",
       "    }\n",
       "</style>\n",
       "<table border=\"1\" class=\"dataframe\">\n",
       "  <thead>\n",
       "    <tr style=\"text-align: right;\">\n",
       "      <th></th>\n",
       "      <th>id_test</th>\n",
       "      <th>y_pred</th>\n",
       "    </tr>\n",
       "  </thead>\n",
       "  <tbody>\n",
       "    <tr>\n",
       "      <th>0</th>\n",
       "      <td>0</td>\n",
       "      <td>m</td>\n",
       "    </tr>\n",
       "    <tr>\n",
       "      <th>1</th>\n",
       "      <td>1</td>\n",
       "      <td>m</td>\n",
       "    </tr>\n",
       "    <tr>\n",
       "      <th>2</th>\n",
       "      <td>2</td>\n",
       "      <td>f</td>\n",
       "    </tr>\n",
       "    <tr>\n",
       "      <th>3</th>\n",
       "      <td>3</td>\n",
       "      <td>m</td>\n",
       "    </tr>\n",
       "    <tr>\n",
       "      <th>4</th>\n",
       "      <td>4</td>\n",
       "      <td>f</td>\n",
       "    </tr>\n",
       "  </tbody>\n",
       "</table>\n",
       "</div>"
      ],
      "text/plain": [
       "   id_test y_pred\n",
       "0        0      m\n",
       "1        1      m\n",
       "2        2      f\n",
       "3        3      m\n",
       "4        4      f"
      ]
     },
     "execution_count": 28,
     "metadata": {},
     "output_type": "execute_result"
    },
    {
     "data": {
      "text/html": [
       "<div>\n",
       "<style scoped>\n",
       "    .dataframe tbody tr th:only-of-type {\n",
       "        vertical-align: middle;\n",
       "    }\n",
       "\n",
       "    .dataframe tbody tr th {\n",
       "        vertical-align: top;\n",
       "    }\n",
       "\n",
       "    .dataframe thead th {\n",
       "        text-align: right;\n",
       "    }\n",
       "</style>\n",
       "<table border=\"1\" class=\"dataframe\">\n",
       "  <thead>\n",
       "    <tr style=\"text-align: right;\">\n",
       "      <th></th>\n",
       "      <th>id_test</th>\n",
       "      <th>y_pred</th>\n",
       "    </tr>\n",
       "  </thead>\n",
       "  <tbody>\n",
       "    <tr>\n",
       "      <th>318</th>\n",
       "      <td>318</td>\n",
       "      <td>m</td>\n",
       "    </tr>\n",
       "    <tr>\n",
       "      <th>319</th>\n",
       "      <td>319</td>\n",
       "      <td>m</td>\n",
       "    </tr>\n",
       "    <tr>\n",
       "      <th>320</th>\n",
       "      <td>320</td>\n",
       "      <td>m</td>\n",
       "    </tr>\n",
       "    <tr>\n",
       "      <th>321</th>\n",
       "      <td>321</td>\n",
       "      <td>m</td>\n",
       "    </tr>\n",
       "    <tr>\n",
       "      <th>322</th>\n",
       "      <td>322</td>\n",
       "      <td>m</td>\n",
       "    </tr>\n",
       "  </tbody>\n",
       "</table>\n",
       "</div>"
      ],
      "text/plain": [
       "     id_test y_pred\n",
       "318      318      m\n",
       "319      319      m\n",
       "320      320      m\n",
       "321      321      m\n",
       "322      322      m"
      ]
     },
     "execution_count": 28,
     "metadata": {},
     "output_type": "execute_result"
    }
   ],
   "source": [
    "sgd_tf.fit(x_train_tf,y_train)\n",
    "\n",
    "y_pred = sgd_tf.predict(x_test)\n",
    "y_pred = np.where(y_pred == 1, 'm', 'f')\n",
    "\n",
    "pd.DataFrame({'id_test': df_test[\"test_example_id\"], 'y_pred': y_pred}).head()\n",
    "pd.DataFrame({'id_test': df_test[\"test_example_id\"], 'y_pred': y_pred}).tail()"
   ]
  },
  {
   "cell_type": "code",
   "execution_count": 34,
   "metadata": {},
   "outputs": [
    {
     "data": {
      "text/html": [
       "<div>\n",
       "<style scoped>\n",
       "    .dataframe tbody tr th:only-of-type {\n",
       "        vertical-align: middle;\n",
       "    }\n",
       "\n",
       "    .dataframe tbody tr th {\n",
       "        vertical-align: top;\n",
       "    }\n",
       "\n",
       "    .dataframe thead th {\n",
       "        text-align: right;\n",
       "    }\n",
       "</style>\n",
       "<table border=\"1\" class=\"dataframe\">\n",
       "  <thead>\n",
       "    <tr style=\"text-align: right;\">\n",
       "      <th></th>\n",
       "      <th>test_example_id</th>\n",
       "      <th>predicted_gender</th>\n",
       "    </tr>\n",
       "  </thead>\n",
       "  <tbody>\n",
       "    <tr>\n",
       "      <th>0</th>\n",
       "      <td>0</td>\n",
       "      <td>m</td>\n",
       "    </tr>\n",
       "    <tr>\n",
       "      <th>1</th>\n",
       "      <td>1</td>\n",
       "      <td>m</td>\n",
       "    </tr>\n",
       "    <tr>\n",
       "      <th>2</th>\n",
       "      <td>2</td>\n",
       "      <td>f</td>\n",
       "    </tr>\n",
       "    <tr>\n",
       "      <th>3</th>\n",
       "      <td>3</td>\n",
       "      <td>m</td>\n",
       "    </tr>\n",
       "    <tr>\n",
       "      <th>4</th>\n",
       "      <td>4</td>\n",
       "      <td>f</td>\n",
       "    </tr>\n",
       "    <tr>\n",
       "      <th>...</th>\n",
       "      <td>...</td>\n",
       "      <td>...</td>\n",
       "    </tr>\n",
       "    <tr>\n",
       "      <th>318</th>\n",
       "      <td>318</td>\n",
       "      <td>m</td>\n",
       "    </tr>\n",
       "    <tr>\n",
       "      <th>319</th>\n",
       "      <td>319</td>\n",
       "      <td>m</td>\n",
       "    </tr>\n",
       "    <tr>\n",
       "      <th>320</th>\n",
       "      <td>320</td>\n",
       "      <td>m</td>\n",
       "    </tr>\n",
       "    <tr>\n",
       "      <th>321</th>\n",
       "      <td>321</td>\n",
       "      <td>m</td>\n",
       "    </tr>\n",
       "    <tr>\n",
       "      <th>322</th>\n",
       "      <td>322</td>\n",
       "      <td>m</td>\n",
       "    </tr>\n",
       "  </tbody>\n",
       "</table>\n",
       "<p>323 rows × 2 columns</p>\n",
       "</div>"
      ],
      "text/plain": [
       "     test_example_id predicted_gender\n",
       "0                  0                m\n",
       "1                  1                m\n",
       "2                  2                f\n",
       "3                  3                m\n",
       "4                  4                f\n",
       "..               ...              ...\n",
       "318              318                m\n",
       "319              319                m\n",
       "320              320                m\n",
       "321              321                m\n",
       "322              322                m\n",
       "\n",
       "[323 rows x 2 columns]"
      ]
     },
     "execution_count": 34,
     "metadata": {},
     "output_type": "execute_result"
    }
   ],
   "source": [
    "# create dataframe with the test results\n",
    "df_predict = pd.DataFrame({'test_example_id': df_test['test_example_id'], 'predicted_gender': y_pred})\n",
    "df_predict"
   ]
  },
  {
   "cell_type": "markdown",
   "metadata": {},
   "source": [
    "## Save output to csv (optional)\n",
    "After you're done save your output to the 'classification_results.csv' csv file.<br/>\n",
    "We assume that the dataframe with your results contain the following columns:\n",
    "* column 1 (left column): 'test_example_id'  - the same id associated to each of the test stories to be predicted.\n",
    "* column 2 (right column): 'predicted_category' - the predicted gender value for each of the associated story. \n",
    "\n",
    "Assuming your predicted values are in the `df_predicted` dataframe, you should save you're results as following:"
   ]
  },
  {
   "cell_type": "code",
   "execution_count": 33,
   "metadata": {},
   "outputs": [],
   "source": [
    "df_predict.to_csv('classification_results.csv',index=False)"
   ]
  }
 ],
 "metadata": {
  "celltoolbar": "Create Assignment",
  "kernelspec": {
   "display_name": "Python 3 (ipykernel)",
   "language": "python",
   "name": "python3"
  },
  "language_info": {
   "codemirror_mode": {
    "name": "ipython",
    "version": 3
   },
   "file_extension": ".py",
   "mimetype": "text/x-python",
   "name": "python",
   "nbconvert_exporter": "python",
   "pygments_lexer": "ipython3",
   "version": "3.9.13"
  }
 },
 "nbformat": 4,
 "nbformat_minor": 4
}
